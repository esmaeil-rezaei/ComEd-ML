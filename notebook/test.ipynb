{
 "cells": [
  {
   "cell_type": "code",
   "execution_count": null,
   "id": "fdfd4f32",
   "metadata": {},
   "outputs": [],
   "source": [
    "import pandas as pd\n",
    "import numpy as np"
   ]
  },
  {
   "cell_type": "code",
   "execution_count": null,
   "id": "eedf5983",
   "metadata": {},
   "outputs": [],
   "source": [
    "filename = 'ANONYMOUS_DATA_202210_60002'\n",
    "df = pd.read_csv(f'../data/raw_data_unzipped/{filename}.csv',)"
   ]
  },
  {
   "cell_type": "code",
   "execution_count": null,
   "id": "60a6b9b7",
   "metadata": {},
   "outputs": [],
   "source": [
    "# remove rows with missing values\n",
    "hourly_cols = df.iloc[:, 7:55]\n",
    "df = df[~hourly_cols.isna().any(axis=1)]"
   ]
  },
  {
   "cell_type": "code",
   "execution_count": null,
   "id": "41e8d385",
   "metadata": {},
   "outputs": [],
   "source": [
    "df['INTERVAL_READING_DATE'] = pd.to_datetime(df['INTERVAL_READING_DATE'])\n",
    "df['DAY'] = df['INTERVAL_READING_DATE'].dt.day"
   ]
  },
  {
   "cell_type": "code",
   "execution_count": null,
   "id": "d2ee0a63",
   "metadata": {},
   "outputs": [],
   "source": [
    "# keep only full months users\n",
    "user_date_counts = (\n",
    "    df.groupby('ACCOUNT_IDENTIFIER')['INTERVAL_READING_DATE']\n",
    "    .count()\n",
    "    .reset_index(name='DATE_COUNT')\n",
    ")\n",
    "\n",
    "full_month_users = (\n",
    "    user_date_counts\n",
    "    .query('DATE_COUNT == 31')\n",
    "    ['ACCOUNT_IDENTIFIER']\n",
    "    .tolist()\n",
    "\n",
    ")\n",
    "\n",
    "df = (\n",
    "    df[df.ACCOUNT_IDENTIFIER.isin(full_month_users)]\n",
    ")\n"
   ]
  },
  {
   "cell_type": "code",
   "execution_count": null,
   "id": "851d3c7e",
   "metadata": {},
   "outputs": [],
   "source": [
    "reshaped_user_data = []\n",
    "time_interval_columns = [\n",
    "    f\"INTERVAL_HR{(30 * i) // 60:02d}{(30 * i) % 60:02d}_ENERGY_QTY\"\n",
    "    for i in range(1, 49)\n",
    "]\n",
    "\n",
    "for user in full_month_users:\n",
    "    user_df = (\n",
    "        df.query('ACCOUNT_IDENTIFIER == @user')\n",
    "        .sort_values('DAY')\n",
    "    )\n",
    "    reshaped_user_data.append(\n",
    "        user_df[['DAY']+time_interval_columns].values.reshape(-1, 1)\n",
    "    )\n",
    "reshaped_user_data = np.hstack(reshaped_user_data)\n",
    "\n",
    "np.save(f'{filename}.npy', reshaped_user_data)\n"
   ]
  },
  {
   "cell_type": "code",
   "execution_count": null,
   "id": "6fc249cb",
   "metadata": {},
   "outputs": [],
   "source": [
    "reshaped_user_data"
   ]
  },
  {
   "cell_type": "code",
   "execution_count": null,
   "id": "f7822803",
   "metadata": {},
   "outputs": [],
   "source": [
    "time_interval_columns = [\n",
    "    f\"INTERVAL_HR{(30 * i) // 60:02d}{(30 * i) % 60:02d}_ENERGY_QTY\"\n",
    "    for i in range(1, 49)\n",
    "]"
   ]
  },
  {
   "cell_type": "code",
   "execution_count": null,
   "id": "c3e7f996",
   "metadata": {},
   "outputs": [],
   "source": [
    "interval_columns"
   ]
  },
  {
   "cell_type": "code",
   "execution_count": null,
   "id": "f675de5c",
   "metadata": {},
   "outputs": [],
   "source": [
    "A = np.array([\n",
    "    [1, 2, 3, 4],\n",
    "    [5, 6, 7, 8],\n",
    "    [9, 10, 11, 12],\n",
    "    [13, 14, 15, 16],\n",
    "    [17, 18, 19, 20],\n",
    "    [21, 22, 23, 24],\n",
    "    [25, 26, 27, 28],\n",
    "    [29, 30, 31, 32]\n",
    "])"
   ]
  },
  {
   "cell_type": "code",
   "execution_count": null,
   "id": "72af8110",
   "metadata": {},
   "outputs": [],
   "source": [
    "A[::2, :]"
   ]
  },
  {
   "cell_type": "code",
   "execution_count": null,
   "id": "a87ebf19",
   "metadata": {},
   "outputs": [],
   "source": [
    "\n",
    "hour=2\n",
    "step = int(2*hour)\n",
    "row_size, col_size = int(A.shape[0] // step), int(A.shape[1])\n",
    "A_hour=np.zeros((row_size, col_size))\n",
    "\n",
    "for i in range(step):\n",
    "    A_hour += A[i::step, :]\n"
   ]
  },
  {
   "cell_type": "code",
   "execution_count": null,
   "id": "9bada025",
   "metadata": {},
   "outputs": [],
   "source": [
    "A.shape[1] // hour"
   ]
  },
  {
   "cell_type": "code",
   "execution_count": null,
   "id": "e2278d63",
   "metadata": {},
   "outputs": [],
   "source": [
    "int(A.shape[0] // hour)"
   ]
  },
  {
   "cell_type": "code",
   "execution_count": null,
   "id": "36a22107",
   "metadata": {},
   "outputs": [],
   "source": [
    "A=A[:,0].reshape(-1, 1)\n"
   ]
  },
  {
   "cell_type": "code",
   "execution_count": null,
   "id": "7169eb57",
   "metadata": {},
   "outputs": [],
   "source": [
    "r=3\n",
    "data_with_previous_r_intervals = []\n",
    "for i in range(A.shape[1]):\n",
    "    col_with_r_intervals = []\n",
    "    for j in range(A.shape[0]-r):\n",
    "        col_with_r_intervals.append(A[j:j+r, i].reshape(1, -1))\n",
    "    col_with_r_intervals = np.vstack(col_with_r_intervals)\n",
    "    data_with_previous_r_intervals.append(col_with_r_intervals)\n",
    "data_with_previous_r_intervals = np.hstack(data_with_previous_r_intervals)\n",
    "data_with_previous_r_intervals"
   ]
  },
  {
   "cell_type": "code",
   "execution_count": null,
   "id": "1d062783",
   "metadata": {},
   "outputs": [],
   "source": [
    "np.concat([data_with_previous_r_intervals, A[r:,:]], axis=1)"
   ]
  },
  {
   "cell_type": "code",
   "execution_count": null,
   "id": "47273db0",
   "metadata": {},
   "outputs": [],
   "source": [
    "A[r,:]"
   ]
  },
  {
   "cell_type": "code",
   "execution_count": null,
   "id": "af233acb",
   "metadata": {},
   "outputs": [],
   "source": [
    "np.arange(20)"
   ]
  },
  {
   "cell_type": "code",
   "execution_count": null,
   "id": "8a64f7b7",
   "metadata": {},
   "outputs": [],
   "source": [
    "import os\n",
    "import sys\n",
    "import numpy as np\n",
    "import pandas as pd\n",
    "from src.exception import CustomException\n",
    "from src.logger import logging\n",
    "from dataclasses import dataclass\n",
    "from catboost import CatBoostRegressor\n",
    "from sklearn.ensemble import (\n",
    "    AdaBoostRegressor,\n",
    "    GradientBoostingRegressor,\n",
    "    RandomForestRegressor,\n",
    ")\n",
    "from sklearn.linear_model import LinearRegression\n",
    "from sklearn.metrics import r2_score\n",
    "from sklearn.neighbors import KNeighborsRegressor\n",
    "from sklearn.tree import DecisionTreeRegressor\n",
    "from xgboost import XGBRegressor\n",
    "from src.utils import save_object, evaluate_models\n",
    "\n",
    "\n",
    "models = {\n",
    "    \"Random Forest\": RandomForestRegressor(),\n",
    "    \"Decision Tree\": DecisionTreeRegressor(),\n",
    "    \"Gradient Boosting\": GradientBoostingRegressor(),\n",
    "    \"Linear Regression\": LinearRegression(),\n",
    "    \"XGBRegressor\": XGBRegressor(),\n",
    "    \"CatBoosting Regressor\": CatBoostRegressor(verbose=False),\n",
    "    \"AdaBoost Regressor\": AdaBoostRegressor(),\n",
    "}"
   ]
  },
  {
   "cell_type": "code",
   "execution_count": null,
   "id": "5a0fb259",
   "metadata": {},
   "outputs": [],
   "source": [
    "test = [\"best\"]\n",
    "test[\"best\"]"
   ]
  },
  {
   "cell_type": "code",
   "execution_count": null,
   "id": "085c2d0f",
   "metadata": {},
   "outputs": [],
   "source": [
    "models[\"Random Forest\"]"
   ]
  },
  {
   "cell_type": "code",
   "execution_count": null,
   "id": "e777402d",
   "metadata": {},
   "outputs": [],
   "source": [
    "strategy_name={\"rma_pca\", \"rma_rbd\"}\n",
    "\n",
    "for strategy in strategy_name:\n",
    "    print(strategy)"
   ]
  },
  {
   "cell_type": "code",
   "execution_count": null,
   "id": "60fd8801",
   "metadata": {},
   "outputs": [],
   "source": []
  }
 ],
 "metadata": {
  "kernelspec": {
   "display_name": "base",
   "language": "python",
   "name": "python3"
  },
  "language_info": {
   "codemirror_mode": {
    "name": "ipython",
    "version": 3
   },
   "file_extension": ".py",
   "mimetype": "text/x-python",
   "name": "python",
   "nbconvert_exporter": "python",
   "pygments_lexer": "ipython3",
   "version": "3.11.0"
  }
 },
 "nbformat": 4,
 "nbformat_minor": 5
}
